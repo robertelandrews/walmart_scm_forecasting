{
  "nbformat": 4,
  "nbformat_minor": 0,
  "metadata": {
    "colab": {
      "provenance": []
    },
    "kernelspec": {
      "name": "python3",
      "display_name": "Python 3"
    },
    "language_info": {
      "name": "python"
    }
  },
  "cells": [
    {
      "cell_type": "markdown",
      "source": [
        "# Walmart Demand Forecasting Notebook\n",
        "# Robert Andrews\n",
        "# rea3ah@virginia.edu"
      ],
      "metadata": {
        "id": "nwf0Vqd7bsqi"
      }
    },
    {
      "cell_type": "code",
      "source": [
        "# Python ≥3.5 is required\n",
        "import sys\n",
        "assert sys.version_info >= (3, 5)\n",
        "\n",
        "# Scikit-Learn ≥0.20 is required\n",
        "import sklearn\n",
        "assert sklearn.__version__ >= \"0.20\"\n",
        "\n",
        "# TensorFlow ≥2.0-preview is required\n",
        "import tensorflow as tf\n",
        "from tensorflow import keras\n",
        "assert tf.__version__ >= \"2.0\"\n",
        "\n",
        "# Common imports\n",
        "import numpy as np\n",
        "import os\n",
        "\n",
        "# to make this notebook's output stable across runs\n",
        "np.random.seed(42)\n",
        "tf.random.set_seed(42)\n",
        "\n",
        "# To plot pretty figures\n",
        "# %matplotlib inline\n",
        "# import matplotlib as mpl\n",
        "# import matplotlib.pyplot as plt\n",
        "# mpl.rc('axes', labelsize=14)\n",
        "# mpl.rc('xtick', labelsize=12)\n",
        "# mpl.rc('ytick', labelsize=12)\n",
        "\n",
        "# Where to save the figures\n",
        "PROJECT_ROOT_DIR = \".\"\n",
        "CHAPTER_ID = \"rnn\"\n",
        "IMAGES_PATH = os.path.join(PROJECT_ROOT_DIR, \"images\", CHAPTER_ID)\n",
        "os.makedirs(IMAGES_PATH, exist_ok=True)\n",
        "\n",
        "def save_fig(fig_id, tight_layout=True, fig_extension=\"png\", resolution=300):\n",
        "    path = os.path.join(IMAGES_PATH, fig_id + \".\" + fig_extension)\n",
        "    print(\"Saving figure\", fig_id)\n",
        "    if tight_layout:\n",
        "        plt.tight_layout()\n",
        "    plt.savefig(path, format=fig_extension, dpi=resolution)"
      ],
      "metadata": {
        "id": "E3Wa1-yDUWUv"
      },
      "execution_count": 8,
      "outputs": []
    },
    {
      "cell_type": "code",
      "source": [
        "!pip install lazypredict\n",
        "!pip install statsmodels\n",
        "!pip install ann_visualizer\n",
        "!pip install visualkeras\n",
        "!pip install PIL\n",
        "!pip install graphviz"
      ],
      "metadata": {
        "colab": {
          "base_uri": "https://localhost:8080/"
        },
        "id": "pSHwZ0IHnFUB",
        "outputId": "2705a6de-b529-4f06-b2d9-a0fbdfd0a6ab"
      },
      "execution_count": 9,
      "outputs": [
        {
          "output_type": "stream",
          "name": "stdout",
          "text": [
            "Looking in indexes: https://pypi.org/simple, https://us-python.pkg.dev/colab-wheels/public/simple/\n",
            "Requirement already satisfied: lazypredict in /usr/local/lib/python3.10/dist-packages (0.2.12)\n",
            "Requirement already satisfied: click in /usr/local/lib/python3.10/dist-packages (from lazypredict) (8.1.3)\n",
            "Requirement already satisfied: scikit-learn in /usr/local/lib/python3.10/dist-packages (from lazypredict) (1.2.2)\n",
            "Requirement already satisfied: pandas in /usr/local/lib/python3.10/dist-packages (from lazypredict) (1.5.3)\n",
            "Requirement already satisfied: tqdm in /usr/local/lib/python3.10/dist-packages (from lazypredict) (4.65.0)\n",
            "Requirement already satisfied: joblib in /usr/local/lib/python3.10/dist-packages (from lazypredict) (1.2.0)\n",
            "Requirement already satisfied: lightgbm in /usr/local/lib/python3.10/dist-packages (from lazypredict) (3.3.5)\n",
            "Requirement already satisfied: xgboost in /usr/local/lib/python3.10/dist-packages (from lazypredict) (1.7.5)\n",
            "Requirement already satisfied: wheel in /usr/local/lib/python3.10/dist-packages (from lightgbm->lazypredict) (0.40.0)\n",
            "Requirement already satisfied: numpy in /usr/local/lib/python3.10/dist-packages (from lightgbm->lazypredict) (1.22.4)\n",
            "Requirement already satisfied: scipy in /usr/local/lib/python3.10/dist-packages (from lightgbm->lazypredict) (1.10.1)\n",
            "Requirement already satisfied: threadpoolctl>=2.0.0 in /usr/local/lib/python3.10/dist-packages (from scikit-learn->lazypredict) (3.1.0)\n",
            "Requirement already satisfied: python-dateutil>=2.8.1 in /usr/local/lib/python3.10/dist-packages (from pandas->lazypredict) (2.8.2)\n",
            "Requirement already satisfied: pytz>=2020.1 in /usr/local/lib/python3.10/dist-packages (from pandas->lazypredict) (2022.7.1)\n",
            "Requirement already satisfied: six>=1.5 in /usr/local/lib/python3.10/dist-packages (from python-dateutil>=2.8.1->pandas->lazypredict) (1.16.0)\n",
            "Looking in indexes: https://pypi.org/simple, https://us-python.pkg.dev/colab-wheels/public/simple/\n",
            "Requirement already satisfied: statsmodels in /usr/local/lib/python3.10/dist-packages (0.13.5)\n",
            "Requirement already satisfied: pandas>=0.25 in /usr/local/lib/python3.10/dist-packages (from statsmodels) (1.5.3)\n",
            "Requirement already satisfied: patsy>=0.5.2 in /usr/local/lib/python3.10/dist-packages (from statsmodels) (0.5.3)\n",
            "Requirement already satisfied: packaging>=21.3 in /usr/local/lib/python3.10/dist-packages (from statsmodels) (23.1)\n",
            "Requirement already satisfied: scipy>=1.3 in /usr/local/lib/python3.10/dist-packages (from statsmodels) (1.10.1)\n",
            "Requirement already satisfied: numpy>=1.17 in /usr/local/lib/python3.10/dist-packages (from statsmodels) (1.22.4)\n",
            "Requirement already satisfied: python-dateutil>=2.8.1 in /usr/local/lib/python3.10/dist-packages (from pandas>=0.25->statsmodels) (2.8.2)\n",
            "Requirement already satisfied: pytz>=2020.1 in /usr/local/lib/python3.10/dist-packages (from pandas>=0.25->statsmodels) (2022.7.1)\n",
            "Requirement already satisfied: six in /usr/local/lib/python3.10/dist-packages (from patsy>=0.5.2->statsmodels) (1.16.0)\n",
            "Looking in indexes: https://pypi.org/simple, https://us-python.pkg.dev/colab-wheels/public/simple/\n",
            "Requirement already satisfied: ann_visualizer in /usr/local/lib/python3.10/dist-packages (2.5)\n",
            "Looking in indexes: https://pypi.org/simple, https://us-python.pkg.dev/colab-wheels/public/simple/\n",
            "Requirement already satisfied: visualkeras in /usr/local/lib/python3.10/dist-packages (0.0.2)\n",
            "Requirement already satisfied: pillow>=6.2.0 in /usr/local/lib/python3.10/dist-packages (from visualkeras) (8.4.0)\n",
            "Requirement already satisfied: numpy>=1.18.1 in /usr/local/lib/python3.10/dist-packages (from visualkeras) (1.22.4)\n",
            "Requirement already satisfied: aggdraw>=1.3.11 in /usr/local/lib/python3.10/dist-packages (from visualkeras) (1.3.16)\n",
            "Looking in indexes: https://pypi.org/simple, https://us-python.pkg.dev/colab-wheels/public/simple/\n",
            "\u001b[31mERROR: Could not find a version that satisfies the requirement PIL (from versions: none)\u001b[0m\u001b[31m\n",
            "\u001b[0m\u001b[31mERROR: No matching distribution found for PIL\u001b[0m\u001b[31m\n",
            "\u001b[0mLooking in indexes: https://pypi.org/simple, https://us-python.pkg.dev/colab-wheels/public/simple/\n",
            "Requirement already satisfied: graphviz in /usr/local/lib/python3.10/dist-packages (0.20.1)\n"
          ]
        }
      ]
    },
    {
      "cell_type": "code",
      "execution_count": 10,
      "metadata": {
        "id": "h7kaERRKSMYh"
      },
      "outputs": [],
      "source": [
        "# import data packages\n",
        "import pandas as pd\n",
        "import numpy as np\n",
        "import matplotlib as mpl\n",
        "from matplotlib import pyplot as plt\n",
        "import tensorflow as tf\n",
        "from tensorflow import keras \n",
        "import lazypredict as lazy\n",
        "from statsmodels.tsa.seasonal import seasonal_decompose as sdc"
      ]
    },
    {
      "cell_type": "code",
      "source": [
        "from google.colab import drive\n",
        "drive.mount('/content/drive')"
      ],
      "metadata": {
        "colab": {
          "base_uri": "https://localhost:8080/"
        },
        "id": "pWXXXq7_SVqR",
        "outputId": "5e154d52-a11e-4120-c727-731e304c798e"
      },
      "execution_count": 11,
      "outputs": [
        {
          "output_type": "stream",
          "name": "stdout",
          "text": [
            "Drive already mounted at /content/drive; to attempt to forcibly remount, call drive.mount(\"/content/drive\", force_remount=True).\n"
          ]
        }
      ]
    },
    {
      "cell_type": "markdown",
      "source": [
        "# **Load Walmart Data**"
      ],
      "metadata": {
        "id": "TkttOlBqBFiq"
      }
    },
    {
      "cell_type": "code",
      "source": [
        "# try reading in walmart clean\n",
        "walmart = pd.read_csv('walmart_clean.csv', index_col='date', parse_dates=True)"
      ],
      "metadata": {
        "id": "v48ZtN5_SeHA"
      },
      "execution_count": 12,
      "outputs": []
    },
    {
      "cell_type": "code",
      "source": [
        "# view first rows\n",
        "walmart.head(5)"
      ],
      "metadata": {
        "colab": {
          "base_uri": "https://localhost:8080/",
          "height": 238
        },
        "id": "PD7I7J6BTXQ8",
        "outputId": "9cffdc47-3f1f-42c5-86a8-1980f8bf5124"
      },
      "execution_count": 13,
      "outputs": [
        {
          "output_type": "execute_result",
          "data": {
            "text/plain": [
              "                 cpi  fuel_price  unemployment  temperature  holiday  \\\n",
              "date                                                                   \n",
              "2010-02-05 -0.097130   -1.402699      0.330835    -1.453396    False   \n",
              "2010-02-12 -0.097494   -1.450172      0.325778    -1.448850     True   \n",
              "2010-02-19 -0.098648   -1.499104      0.330631    -1.249559    False   \n",
              "2010-02-26 -0.089658   -1.472985      0.322593    -1.163302    False   \n",
              "2010-03-05 -0.088730   -1.372282      0.328665    -0.960329    False   \n",
              "\n",
              "            weekly_sales  \n",
              "date                      \n",
              "2010-02-05   49750740.50  \n",
              "2010-02-12   48336677.63  \n",
              "2010-02-19   48276993.78  \n",
              "2010-02-26   43968571.13  \n",
              "2010-03-05   46871470.30  "
            ],
            "text/html": [
              "\n",
              "  <div id=\"df-a4c63ab2-448f-4500-987d-3b12096362fb\">\n",
              "    <div class=\"colab-df-container\">\n",
              "      <div>\n",
              "<style scoped>\n",
              "    .dataframe tbody tr th:only-of-type {\n",
              "        vertical-align: middle;\n",
              "    }\n",
              "\n",
              "    .dataframe tbody tr th {\n",
              "        vertical-align: top;\n",
              "    }\n",
              "\n",
              "    .dataframe thead th {\n",
              "        text-align: right;\n",
              "    }\n",
              "</style>\n",
              "<table border=\"1\" class=\"dataframe\">\n",
              "  <thead>\n",
              "    <tr style=\"text-align: right;\">\n",
              "      <th></th>\n",
              "      <th>cpi</th>\n",
              "      <th>fuel_price</th>\n",
              "      <th>unemployment</th>\n",
              "      <th>temperature</th>\n",
              "      <th>holiday</th>\n",
              "      <th>weekly_sales</th>\n",
              "    </tr>\n",
              "    <tr>\n",
              "      <th>date</th>\n",
              "      <th></th>\n",
              "      <th></th>\n",
              "      <th></th>\n",
              "      <th></th>\n",
              "      <th></th>\n",
              "      <th></th>\n",
              "    </tr>\n",
              "  </thead>\n",
              "  <tbody>\n",
              "    <tr>\n",
              "      <th>2010-02-05</th>\n",
              "      <td>-0.097130</td>\n",
              "      <td>-1.402699</td>\n",
              "      <td>0.330835</td>\n",
              "      <td>-1.453396</td>\n",
              "      <td>False</td>\n",
              "      <td>49750740.50</td>\n",
              "    </tr>\n",
              "    <tr>\n",
              "      <th>2010-02-12</th>\n",
              "      <td>-0.097494</td>\n",
              "      <td>-1.450172</td>\n",
              "      <td>0.325778</td>\n",
              "      <td>-1.448850</td>\n",
              "      <td>True</td>\n",
              "      <td>48336677.63</td>\n",
              "    </tr>\n",
              "    <tr>\n",
              "      <th>2010-02-19</th>\n",
              "      <td>-0.098648</td>\n",
              "      <td>-1.499104</td>\n",
              "      <td>0.330631</td>\n",
              "      <td>-1.249559</td>\n",
              "      <td>False</td>\n",
              "      <td>48276993.78</td>\n",
              "    </tr>\n",
              "    <tr>\n",
              "      <th>2010-02-26</th>\n",
              "      <td>-0.089658</td>\n",
              "      <td>-1.472985</td>\n",
              "      <td>0.322593</td>\n",
              "      <td>-1.163302</td>\n",
              "      <td>False</td>\n",
              "      <td>43968571.13</td>\n",
              "    </tr>\n",
              "    <tr>\n",
              "      <th>2010-03-05</th>\n",
              "      <td>-0.088730</td>\n",
              "      <td>-1.372282</td>\n",
              "      <td>0.328665</td>\n",
              "      <td>-0.960329</td>\n",
              "      <td>False</td>\n",
              "      <td>46871470.30</td>\n",
              "    </tr>\n",
              "  </tbody>\n",
              "</table>\n",
              "</div>\n",
              "      <button class=\"colab-df-convert\" onclick=\"convertToInteractive('df-a4c63ab2-448f-4500-987d-3b12096362fb')\"\n",
              "              title=\"Convert this dataframe to an interactive table.\"\n",
              "              style=\"display:none;\">\n",
              "        \n",
              "  <svg xmlns=\"http://www.w3.org/2000/svg\" height=\"24px\"viewBox=\"0 0 24 24\"\n",
              "       width=\"24px\">\n",
              "    <path d=\"M0 0h24v24H0V0z\" fill=\"none\"/>\n",
              "    <path d=\"M18.56 5.44l.94 2.06.94-2.06 2.06-.94-2.06-.94-.94-2.06-.94 2.06-2.06.94zm-11 1L8.5 8.5l.94-2.06 2.06-.94-2.06-.94L8.5 2.5l-.94 2.06-2.06.94zm10 10l.94 2.06.94-2.06 2.06-.94-2.06-.94-.94-2.06-.94 2.06-2.06.94z\"/><path d=\"M17.41 7.96l-1.37-1.37c-.4-.4-.92-.59-1.43-.59-.52 0-1.04.2-1.43.59L10.3 9.45l-7.72 7.72c-.78.78-.78 2.05 0 2.83L4 21.41c.39.39.9.59 1.41.59.51 0 1.02-.2 1.41-.59l7.78-7.78 2.81-2.81c.8-.78.8-2.07 0-2.86zM5.41 20L4 18.59l7.72-7.72 1.47 1.35L5.41 20z\"/>\n",
              "  </svg>\n",
              "      </button>\n",
              "      \n",
              "  <style>\n",
              "    .colab-df-container {\n",
              "      display:flex;\n",
              "      flex-wrap:wrap;\n",
              "      gap: 12px;\n",
              "    }\n",
              "\n",
              "    .colab-df-convert {\n",
              "      background-color: #E8F0FE;\n",
              "      border: none;\n",
              "      border-radius: 50%;\n",
              "      cursor: pointer;\n",
              "      display: none;\n",
              "      fill: #1967D2;\n",
              "      height: 32px;\n",
              "      padding: 0 0 0 0;\n",
              "      width: 32px;\n",
              "    }\n",
              "\n",
              "    .colab-df-convert:hover {\n",
              "      background-color: #E2EBFA;\n",
              "      box-shadow: 0px 1px 2px rgba(60, 64, 67, 0.3), 0px 1px 3px 1px rgba(60, 64, 67, 0.15);\n",
              "      fill: #174EA6;\n",
              "    }\n",
              "\n",
              "    [theme=dark] .colab-df-convert {\n",
              "      background-color: #3B4455;\n",
              "      fill: #D2E3FC;\n",
              "    }\n",
              "\n",
              "    [theme=dark] .colab-df-convert:hover {\n",
              "      background-color: #434B5C;\n",
              "      box-shadow: 0px 1px 3px 1px rgba(0, 0, 0, 0.15);\n",
              "      filter: drop-shadow(0px 1px 2px rgba(0, 0, 0, 0.3));\n",
              "      fill: #FFFFFF;\n",
              "    }\n",
              "  </style>\n",
              "\n",
              "      <script>\n",
              "        const buttonEl =\n",
              "          document.querySelector('#df-a4c63ab2-448f-4500-987d-3b12096362fb button.colab-df-convert');\n",
              "        buttonEl.style.display =\n",
              "          google.colab.kernel.accessAllowed ? 'block' : 'none';\n",
              "\n",
              "        async function convertToInteractive(key) {\n",
              "          const element = document.querySelector('#df-a4c63ab2-448f-4500-987d-3b12096362fb');\n",
              "          const dataTable =\n",
              "            await google.colab.kernel.invokeFunction('convertToInteractive',\n",
              "                                                     [key], {});\n",
              "          if (!dataTable) return;\n",
              "\n",
              "          const docLinkHtml = 'Like what you see? Visit the ' +\n",
              "            '<a target=\"_blank\" href=https://colab.research.google.com/notebooks/data_table.ipynb>data table notebook</a>'\n",
              "            + ' to learn more about interactive tables.';\n",
              "          element.innerHTML = '';\n",
              "          dataTable['output_type'] = 'display_data';\n",
              "          await google.colab.output.renderOutput(dataTable, element);\n",
              "          const docLink = document.createElement('div');\n",
              "          docLink.innerHTML = docLinkHtml;\n",
              "          element.appendChild(docLink);\n",
              "        }\n",
              "      </script>\n",
              "    </div>\n",
              "  </div>\n",
              "  "
            ]
          },
          "metadata": {},
          "execution_count": 13
        }
      ]
    },
    {
      "cell_type": "code",
      "source": [
        "# drop other features but weekly sales \n",
        "walmart = walmart[['weekly_sales']]"
      ],
      "metadata": {
        "id": "NscjHqpiTeC0"
      },
      "execution_count": 14,
      "outputs": []
    },
    {
      "cell_type": "markdown",
      "source": [
        "# **EDA Time Series Data**"
      ],
      "metadata": {
        "id": "qsicmIdzBPNb"
      }
    },
    {
      "cell_type": "code",
      "source": [
        "walmart.plot()\n",
        "plt.title(\"Walmart US Weekly Sales: 2010-2012\");"
      ],
      "metadata": {
        "colab": {
          "base_uri": "https://localhost:8080/",
          "height": 488
        },
        "id": "VBYplQ5xUMjz",
        "outputId": "5858ae1d-0d59-41bf-8a32-212cbef093a6"
      },
      "execution_count": 36,
      "outputs": [
        {
          "output_type": "display_data",
          "data": {
            "text/plain": [
              "<Figure size 640x480 with 1 Axes>"
            ],
            "image/png": "[encoded data removed]"
          },
          "metadata": {}
        }
      ]
    },
    {
      "cell_type": "code",
      "source": [
        "# decompose sales data\n",
        "results = sdc(walmart['weekly_sales'])\n",
        "plt.figure(figsize=(18,9))\n",
        "results.plot();\n",
        "plt.xticks(rotation = 45);\n"
      ],
      "metadata": {
        "colab": {
          "base_uri": "https://localhost:8080/",
          "height": 540
        },
        "id": "NFnA9q9AVYZk",
        "outputId": "e630d821-5e12-48fc-e4b2-868713ef593f"
      },
      "execution_count": 16,
      "outputs": [
        {
          "output_type": "display_data",
          "data": {
            "text/plain": [
              "<Figure size 1800x900 with 0 Axes>"
            ]
          },
          "metadata": {}
        },
        {
          "output_type": "display_data",
          "data": {
            "text/plain": [
              "<Figure size 640x480 with 4 Axes>"
            ],
            "image/png": "[encoded data removed]"
          },
          "metadata": {}
        }
      ]
    },
    {
      "cell_type": "markdown",
      "source": [
        "# **Split Data**"
      ],
      "metadata": {
        "id": "NY8SYteiBUYY"
      }
    },
    {
      "cell_type": "code",
      "source": [
        "len(walmart)"
      ],
      "metadata": {
        "colab": {
          "base_uri": "https://localhost:8080/"
        },
        "id": "c04m2LWKVuT9",
        "outputId": "47633169-45cf-4d30-9b75-b52e476facbe"
      },
      "execution_count": 17,
      "outputs": [
        {
          "output_type": "execute_result",
          "data": {
            "text/plain": [
              "143"
            ]
          },
          "metadata": {},
          "execution_count": 17
        }
      ]
    },
    {
      "cell_type": "code",
      "source": [
        "train = walmart.iloc[:131] # use all but last 12 weeks \n",
        "valid = walmart.iloc[110:131]\n",
        "test = walmart.iloc[131:]"
      ],
      "metadata": {
        "id": "bIjYGkHsW7K2"
      },
      "execution_count": 18,
      "outputs": []
    },
    {
      "cell_type": "code",
      "source": [
        "# use minmax scaler to convert sales \n",
        "from sklearn.preprocessing import MinMaxScaler\n",
        "scaler = MinMaxScaler()"
      ],
      "metadata": {
        "id": "K5Yp0sj0keFl"
      },
      "execution_count": 19,
      "outputs": []
    },
    {
      "cell_type": "code",
      "source": [
        "walmart.head(), walmart.tail(12)"
      ],
      "metadata": {
        "colab": {
          "base_uri": "https://localhost:8080/"
        },
        "id": "iNx1sGfku8e2",
        "outputId": "45d995d9-d55b-42e8-8ef1-d81f85c7df4e"
      },
      "execution_count": 20,
      "outputs": [
        {
          "output_type": "execute_result",
          "data": {
            "text/plain": [
              "(            weekly_sales\n",
              " date                    \n",
              " 2010-02-05   49750740.50\n",
              " 2010-02-12   48336677.63\n",
              " 2010-02-19   48276993.78\n",
              " 2010-02-26   43968571.13\n",
              " 2010-03-05   46871470.30,\n",
              "             weekly_sales\n",
              " date                    \n",
              " 2012-08-10   47403451.04\n",
              " 2012-08-17   47354452.05\n",
              " 2012-08-24   47447323.60\n",
              " 2012-08-31   47159639.43\n",
              " 2012-09-07   48330059.31\n",
              " 2012-09-14   44226038.65\n",
              " 2012-09-21   44354547.11\n",
              " 2012-09-28   43734899.40\n",
              " 2012-10-05   47566639.31\n",
              " 2012-10-12   46128514.25\n",
              " 2012-10-19   45122410.57\n",
              " 2012-10-26   45544116.29)"
            ]
          },
          "metadata": {},
          "execution_count": 20
        }
      ]
    },
    {
      "cell_type": "markdown",
      "source": [
        "# **Scale Data for Training**"
      ],
      "metadata": {
        "id": "Tq4rRx5qA20I"
      }
    },
    {
      "cell_type": "code",
      "source": [
        "# transfor data with scaler\n",
        "scaler.fit(train)\n",
        "train = scaler.transform(train)\n",
        "valid = scaler.transform(valid)\n",
        "test = scaler.transform(test)"
      ],
      "metadata": {
        "id": "P-kA65P4kmmi"
      },
      "execution_count": 21,
      "outputs": []
    },
    {
      "cell_type": "code",
      "source": [
        "# check make sure it worked\n",
        "train[:5]"
      ],
      "metadata": {
        "colab": {
          "base_uri": "https://localhost:8080/"
        },
        "id": "oUeaQJF0k07g",
        "outputId": "346015ab-7157-4e69-9777-dcce7a0199d9"
      },
      "execution_count": 22,
      "outputs": [
        {
          "output_type": "execute_result",
          "data": {
            "text/plain": [
              "array([[0.24559651],\n",
              "       [0.21138385],\n",
              "       [0.20993982],\n",
              "       [0.10569932],\n",
              "       [0.17593376]])"
            ]
          },
          "metadata": {},
          "execution_count": 22
        }
      ]
    },
    {
      "cell_type": "code",
      "source": [
        "# check shape\n",
        "train.shape, valid.shape, test.shape"
      ],
      "metadata": {
        "colab": {
          "base_uri": "https://localhost:8080/"
        },
        "id": "toMqxTKIn9rM",
        "outputId": "06fe4c1a-d30e-4300-bc2a-b95f8cc3986a"
      },
      "execution_count": 23,
      "outputs": [
        {
          "output_type": "execute_result",
          "data": {
            "text/plain": [
              "((131, 1), (21, 1), (12, 1))"
            ]
          },
          "metadata": {},
          "execution_count": 23
        }
      ]
    },
    {
      "cell_type": "code",
      "source": [
        "# create time series generator\n",
        "from keras.preprocessing.sequence import TimeseriesGenerator"
      ],
      "metadata": {
        "id": "sCd8FTNIk4hy"
      },
      "execution_count": 24,
      "outputs": []
    },
    {
      "cell_type": "code",
      "source": [
        "# define generator\n",
        "n_input = 12 # because we want to predict the last twelve weeks\n",
        "n_features = 1 # weekly_sales is the only feature\n",
        "generator = TimeseriesGenerator(train, train, length = n_input, batch_size=1)\n",
        "valid_gen = TimeseriesGenerator(valid, valid, length = n_input, batch_size=1)"
      ],
      "metadata": {
        "id": "4UUIGWXNljVr"
      },
      "execution_count": 25,
      "outputs": []
    },
    {
      "cell_type": "code",
      "source": [
        "X,y = generator[0]\n",
        "print(f'Given the Array: \\n{X.flatten()}')\n",
        "print(f'Predict this y: \\n {y}')"
      ],
      "metadata": {
        "colab": {
          "base_uri": "https://localhost:8080/"
        },
        "id": "1dudgkvgvefc",
        "outputId": "c8646389-cbfd-4224-fdfd-89841cbd1d86"
      },
      "execution_count": 26,
      "outputs": [
        {
          "output_type": "stream",
          "name": "stdout",
          "text": [
            "Given the Array: \n",
            "[0.24559651 0.21138385 0.20993982 0.10569932 0.17593376 0.1530439\n",
            " 0.13038756 0.10970086 0.26188166 0.18788154 0.13509806 0.12422951]\n",
            "Predict this y: \n",
            " [[0.09932539]]\n"
          ]
        }
      ]
    },
    {
      "cell_type": "code",
      "source": [
        "X,y = valid_gen[0]\n",
        "print(f'Given the Array: \\n{X.flatten()}')\n",
        "print(f'Predict this y: \\n {y}')"
      ],
      "metadata": {
        "colab": {
          "base_uri": "https://localhost:8080/"
        },
        "id": "XAWBGOFw2XRA",
        "outputId": "13983a24-ce7b-44f9-fc1a-1a1f37c55c13"
      },
      "execution_count": 27,
      "outputs": [
        {
          "output_type": "stream",
          "name": "stdout",
          "text": [
            "Given the Array: \n",
            "[0.17666044 0.13050417 0.1372561  0.33636432 0.17007362 0.13240914\n",
            " 0.0996078  0.1820484  0.17725016 0.17478377 0.20063626 0.21005247]\n",
            "Predict this y: \n",
            " [[0.24318749]]\n"
          ]
        }
      ]
    },
    {
      "cell_type": "code",
      "source": [
        "X.shape"
      ],
      "metadata": {
        "colab": {
          "base_uri": "https://localhost:8080/"
        },
        "id": "7LHRT__fvg-c",
        "outputId": "84149c6f-c650-4be0-81c3-57b5b2de47ff"
      },
      "execution_count": 28,
      "outputs": [
        {
          "output_type": "execute_result",
          "data": {
            "text/plain": [
              "(1, 12, 1)"
            ]
          },
          "metadata": {},
          "execution_count": 28
        }
      ]
    },
    {
      "cell_type": "code",
      "source": [
        "# We do the same thing for 12 weeks\n",
        "n_input = 12\n",
        "generator = TimeseriesGenerator(train, train, length=n_input, batch_size=1)"
      ],
      "metadata": {
        "id": "Cqc4ttFWvpSw"
      },
      "execution_count": 29,
      "outputs": []
    },
    {
      "cell_type": "markdown",
      "source": [
        "# **Design and Train LSTM Network**"
      ],
      "metadata": {
        "id": "_-mDSmgaAvUG"
      }
    },
    {
      "cell_type": "code",
      "source": [
        "from keras.models import Sequential\n",
        "from keras.layers import LSTM\n",
        "from keras.layers import Dense"
      ],
      "metadata": {
        "id": "8qhCtrIlo_pK"
      },
      "execution_count": 30,
      "outputs": []
    },
    {
      "cell_type": "code",
      "source": [
        "from keras import callbacks\n",
        "earlystopping = callbacks.EarlyStopping(monitor=\"val_loss\",\n",
        "                                        mode=\"min\", patience=5,\n",
        "                                        restore_best_weights=True)\n",
        "model = keras.models.Sequential([\n",
        "    keras.layers.LSTM(int(20), return_sequences=True, input_shape=[None, 1]),\n",
        "    keras.layers.LSTM(int(20), return_sequences=True),\n",
        "    keras.layers.Dense(int(1))\n",
        "])\n",
        "\n",
        "model.compile(loss=\"mse\", optimizer=\"adam\", metrics=[tf.keras.metrics.MeanAbsolutePercentageError()])"
      ],
      "metadata": {
        "id": "3O7Jdpck6EOx"
      },
      "execution_count": 31,
      "outputs": []
    },
    {
      "cell_type": "code",
      "source": [
        "# from ann_visualizer.visualize import ann_viz\n",
        "# from graphviz import Source\n",
        "# ann_viz(model,view=True)"
      ],
      "metadata": {
        "id": "IuOMZ30LbVM_"
      },
      "execution_count": 32,
      "outputs": []
    },
    {
      "cell_type": "code",
      "source": [
        "model.summary()"
      ],
      "metadata": {
        "colab": {
          "base_uri": "https://localhost:8080/"
        },
        "id": "2AB7ZuOmg2q2",
        "outputId": "cacaef05-cc12-4cf3-8c03-66ad4c15d02c"
      },
      "execution_count": 33,
      "outputs": [
        {
          "output_type": "stream",
          "name": "stdout",
          "text": [
            "Model: \"sequential\"\n",
            "_________________________________________________________________\n",
            " Layer (type)                Output Shape              Param #   \n",
            "=================================================================\n",
            " lstm (LSTM)                 (None, None, 20)          1760      \n",
            "                                                                 \n",
            " lstm_1 (LSTM)               (None, None, 20)          3280      \n",
            "                                                                 \n",
            " dense (Dense)               (None, None, 1)           21        \n",
            "                                                                 \n",
            "=================================================================\n",
            "Total params: 5,061\n",
            "Trainable params: 5,061\n",
            "Non-trainable params: 0\n",
            "_________________________________________________________________\n"
          ]
        }
      ]
    },
    {
      "cell_type": "code",
      "source": [
        "'''\n",
        "c/o Angel Das\n",
        "Towards Data Science\n",
        "https://towardsdatascience.com/how-to-visualize-neural-network-architectures-in-python-567cd2aa6d62\n",
        "\n",
        "'''\n",
        "tf.keras.utils.plot_model(\n",
        "model,\n",
        "to_file=\"model.png\",\n",
        "show_shapes=True,\n",
        "show_dtype=False,\n",
        "show_layer_names=True,\n",
        "rankdir=\"TB\",\n",
        "expand_nested=True,\n",
        "dpi=96,\n",
        "layer_range=None,\n",
        "show_layer_activations=True,\n",
        ")"
      ],
      "metadata": {
        "colab": {
          "base_uri": "https://localhost:8080/",
          "height": 422
        },
        "id": "7DxHB0MFfuNR",
        "outputId": "1149641b-54c9-4f1d-fea8-c71db9351c30"
      },
      "execution_count": 34,
      "outputs": [
        {
          "output_type": "execute_result",
          "data": {
            "image/png": "[encoded data removed]",
            "text/plain": [
              "<IPython.core.display.Image object>"
            ]
          },
          "metadata": {},
          "execution_count": 34
        }
      ]
    },
    {
      "cell_type": "code",
      "source": [
        "history = model.fit(generator, epochs=50,\n",
        "                    validation_data=valid_gen,\n",
        "                    callbacks=[earlystopping])"
      ],
      "metadata": {
        "colab": {
          "base_uri": "https://localhost:8080/"
        },
        "id": "LkZbnIo5bUM3",
        "outputId": "3741eee4-eadc-41c4-84b4-73a3f2e52682"
      },
      "execution_count": 35,
      "outputs": [
        {
          "output_type": "stream",
          "name": "stdout",
          "text": [
            "Epoch 1/50\n",
            "119/119 [==============================] - 16s 43ms/step - loss: 0.0259 - mean_absolute_percentage_error: 1298262.3750 - val_loss: 0.0041 - val_mean_absolute_percentage_error: 28.5497\n",
            "Epoch 2/50\n",
            "119/119 [==============================] - 3s 21ms/step - loss: 0.0220 - mean_absolute_percentage_error: 1403149.8750 - val_loss: 0.0034 - val_mean_absolute_percentage_error: 23.8456\n",
            "Epoch 3/50\n",
            "119/119 [==============================] - 3s 26ms/step - loss: 0.0213 - mean_absolute_percentage_error: 1504411.1250 - val_loss: 0.0036 - val_mean_absolute_percentage_error: 23.4499\n",
            "Epoch 4/50\n",
            "119/119 [==============================] - 4s 33ms/step - loss: 0.0214 - mean_absolute_percentage_error: 1490602.6250 - val_loss: 0.0031 - val_mean_absolute_percentage_error: 22.4281\n",
            "Epoch 5/50\n",
            "119/119 [==============================] - 3s 26ms/step - loss: 0.0210 - mean_absolute_percentage_error: 1585000.7500 - val_loss: 0.0041 - val_mean_absolute_percentage_error: 24.8279\n",
            "Epoch 6/50\n",
            "119/119 [==============================] - 3s 24ms/step - loss: 0.0213 - mean_absolute_percentage_error: 1419796.1250 - val_loss: 0.0027 - val_mean_absolute_percentage_error: 24.7644\n",
            "Epoch 7/50\n",
            "119/119 [==============================] - 2s 19ms/step - loss: 0.0208 - mean_absolute_percentage_error: 1347822.5000 - val_loss: 0.0026 - val_mean_absolute_percentage_error: 24.1284\n",
            "Epoch 8/50\n",
            "119/119 [==============================] - 2s 19ms/step - loss: 0.0206 - mean_absolute_percentage_error: 1437257.8750 - val_loss: 0.0025 - val_mean_absolute_percentage_error: 22.5612\n",
            "Epoch 9/50\n",
            "119/119 [==============================] - 2s 14ms/step - loss: 0.0205 - mean_absolute_percentage_error: 1286129.2500 - val_loss: 0.0027 - val_mean_absolute_percentage_error: 26.0116\n",
            "Epoch 10/50\n",
            "119/119 [==============================] - 2s 16ms/step - loss: 0.0205 - mean_absolute_percentage_error: 1352990.0000 - val_loss: 0.0025 - val_mean_absolute_percentage_error: 21.6635\n",
            "Epoch 11/50\n",
            "119/119 [==============================] - 2s 15ms/step - loss: 0.0204 - mean_absolute_percentage_error: 1305014.0000 - val_loss: 0.0028 - val_mean_absolute_percentage_error: 21.3984\n",
            "Epoch 12/50\n",
            "119/119 [==============================] - 2s 14ms/step - loss: 0.0197 - mean_absolute_percentage_error: 1161927.8750 - val_loss: 0.0032 - val_mean_absolute_percentage_error: 29.6129\n",
            "Epoch 13/50\n",
            "119/119 [==============================] - 2s 19ms/step - loss: 0.0209 - mean_absolute_percentage_error: 1207026.5000 - val_loss: 0.0029 - val_mean_absolute_percentage_error: 27.5476\n"
          ]
        }
      ]
    },
    {
      "cell_type": "code",
      "source": [
        "'''\n",
        "c/o Rich Nguyen, PHD\n",
        "nguyen@virginia.edu\n",
        "'''\n",
        "def plot_learning_curves(loss, val_loss):\n",
        "    plt.plot(np.arange(len(loss)) + 0.5, loss, \"b.-\", label=\"Training loss\")\n",
        "    plt.plot(np.arange(len(val_loss)) + 1, val_loss, \"r.-\", label=\"Validation loss\")\n",
        "    plt.gca().xaxis.set_major_locator(mpl.ticker.MaxNLocator(integer=True))\n",
        "    plt.axis([1, 20, 0, 0.05])\n",
        "    plt.legend(fontsize=14)\n",
        "    plt.xlabel(\"Epochs\")\n",
        "    plt.ylabel(\"Loss\")\n",
        "    plt.grid(True)"
      ],
      "metadata": {
        "id": "_iX3RW7a9QJ0"
      },
      "execution_count": 37,
      "outputs": []
    },
    {
      "cell_type": "code",
      "source": [
        "plot_learning_curves(history.history[\"loss\"], history.history[\"val_loss\"])\n",
        "plt.show();"
      ],
      "metadata": {
        "colab": {
          "base_uri": "https://localhost:8080/",
          "height": 455
        },
        "id": "wHD4B40-9WCT",
        "outputId": "8cc40c90-0475-432e-ecd8-d8699267c469"
      },
      "execution_count": 39,
      "outputs": [
        {
          "output_type": "display_data",
          "data": {
            "text/plain": [
              "<Figure size 640x480 with 1 Axes>"
            ],
            "image/png": "[encoded data removed]"
          },
          "metadata": {}
        }
      ]
    },
    {
      "cell_type": "code",
      "source": [
        "test"
      ],
      "metadata": {
        "colab": {
          "base_uri": "https://localhost:8080/"
        },
        "id": "lo4wyu4viwKd",
        "outputId": "2022f063-0a09-431e-cc4d-90982d0caf69"
      },
      "execution_count": 42,
      "outputs": [
        {
          "output_type": "execute_result",
          "data": {
            "text/plain": [
              "array([[0.18880482],\n",
              "       [0.18761931],\n",
              "       [0.18986629],\n",
              "       [0.18290589],\n",
              "       [0.21122372],\n",
              "       [0.11192864],\n",
              "       [0.11503785],\n",
              "       [0.10004573],\n",
              "       [0.19275309],\n",
              "       [0.15795825],\n",
              "       [0.13361599],\n",
              "       [0.14381898]])"
            ]
          },
          "metadata": {},
          "execution_count": 42
        }
      ]
    },
    {
      "cell_type": "markdown",
      "source": [
        "# **Generate Predictions**"
      ],
      "metadata": {
        "id": "N9FytFjCAiX5"
      }
    },
    {
      "cell_type": "code",
      "source": [
        "df_preds = walmart.loc['2012-08-10':]"
      ],
      "metadata": {
        "id": "yJg-UR4G79eO"
      },
      "execution_count": 70,
      "outputs": []
    },
    {
      "cell_type": "code",
      "source": [
        "# reshape preds into array\n",
        "preds1 = preds.reshape(12,1)\n",
        "# rescale weekly sales\n",
        "true_preds = scaler.inverse_transform(preds1)"
      ],
      "metadata": {
        "id": "IiA-T952k8xT"
      },
      "execution_count": 71,
      "outputs": []
    },
    {
      "cell_type": "code",
      "source": [
        "true_preds.shape"
      ],
      "metadata": {
        "colab": {
          "base_uri": "https://localhost:8080/"
        },
        "id": "DZc-nFSylK40",
        "outputId": "d6370691-3e88-4310-e438-10bcbc93717c"
      },
      "execution_count": 72,
      "outputs": [
        {
          "output_type": "execute_result",
          "data": {
            "text/plain": [
              "(12, 1)"
            ]
          },
          "metadata": {},
          "execution_count": 72
        }
      ]
    },
    {
      "cell_type": "code",
      "source": [
        "true_preds"
      ],
      "metadata": {
        "colab": {
          "base_uri": "https://localhost:8080/"
        },
        "id": "MZueeu9VlN9X",
        "outputId": "21e19c71-eb8d-495d-c86d-415ea004f16c"
      },
      "execution_count": 73,
      "outputs": [
        {
          "output_type": "execute_result",
          "data": {
            "text/plain": [
              "array([[45439380.],\n",
              "       [45439728.],\n",
              "       [45439064.],\n",
              "       [45441128.],\n",
              "       [45432740.],\n",
              "       [45462332.],\n",
              "       [45461396.],\n",
              "       [45465904.],\n",
              "       [45438208.],\n",
              "       [45448556.],\n",
              "       [45455828.],\n",
              "       [45452776.]], dtype=float32)"
            ]
          },
          "metadata": {},
          "execution_count": 73
        }
      ]
    },
    {
      "cell_type": "code",
      "source": [
        "df_preds['Predictions'] = [45439380,\n",
        "       45439728.,\n",
        "       45439064.,\n",
        "       45441128.,\n",
        "       45432740.,\n",
        "       45462332.,\n",
        "       45461396.,\n",
        "       45465904.,\n",
        "       45438208.,\n",
        "       45448556.,\n",
        "       45455828.,\n",
        "       45452776.]"
      ],
      "metadata": {
        "colab": {
          "base_uri": "https://localhost:8080/"
        },
        "id": "zBwHr7rnjz7s",
        "outputId": "7ebeebc3-c963-4e05-a738-b2f12819cc28"
      },
      "execution_count": 74,
      "outputs": [
        {
          "output_type": "stream",
          "name": "stderr",
          "text": [
            "<ipython-input-74-5427d4d1ecfa>:1: SettingWithCopyWarning: \n",
            "A value is trying to be set on a copy of a slice from a DataFrame.\n",
            "Try using .loc[row_indexer,col_indexer] = value instead\n",
            "\n",
            "See the caveats in the documentation: https://pandas.pydata.org/pandas-docs/stable/user_guide/indexing.html#returning-a-view-versus-a-copy\n",
            "  df_preds['Predictions'] = [45439380,\n"
          ]
        }
      ]
    },
    {
      "cell_type": "code",
      "source": [
        "df_preds"
      ],
      "metadata": {
        "id": "9ms4-59Imf41",
        "colab": {
          "base_uri": "https://localhost:8080/",
          "height": 457
        },
        "outputId": "57ee6bab-6173-4160-e272-8554650664c7"
      },
      "execution_count": 75,
      "outputs": [
        {
          "output_type": "execute_result",
          "data": {
            "text/plain": [
              "            weekly_sales  Predictions\n",
              "date                                 \n",
              "2012-08-10   47403451.04   45439380.0\n",
              "2012-08-17   47354452.05   45439728.0\n",
              "2012-08-24   47447323.60   45439064.0\n",
              "2012-08-31   47159639.43   45441128.0\n",
              "2012-09-07   48330059.31   45432740.0\n",
              "2012-09-14   44226038.65   45462332.0\n",
              "2012-09-21   44354547.11   45461396.0\n",
              "2012-09-28   43734899.40   45465904.0\n",
              "2012-10-05   47566639.31   45438208.0\n",
              "2012-10-12   46128514.25   45448556.0\n",
              "2012-10-19   45122410.57   45455828.0\n",
              "2012-10-26   45544116.29   45452776.0"
            ],
            "text/html": [
              "\n",
              "  <div id=\"df-324233b5-2e83-40b0-95f1-dc551dd86c23\">\n",
              "    <div class=\"colab-df-container\">\n",
              "      <div>\n",
              "<style scoped>\n",
              "    .dataframe tbody tr th:only-of-type {\n",
              "        vertical-align: middle;\n",
              "    }\n",
              "\n",
              "    .dataframe tbody tr th {\n",
              "        vertical-align: top;\n",
              "    }\n",
              "\n",
              "    .dataframe thead th {\n",
              "        text-align: right;\n",
              "    }\n",
              "</style>\n",
              "<table border=\"1\" class=\"dataframe\">\n",
              "  <thead>\n",
              "    <tr style=\"text-align: right;\">\n",
              "      <th></th>\n",
              "      <th>weekly_sales</th>\n",
              "      <th>Predictions</th>\n",
              "    </tr>\n",
              "    <tr>\n",
              "      <th>date</th>\n",
              "      <th></th>\n",
              "      <th></th>\n",
              "    </tr>\n",
              "  </thead>\n",
              "  <tbody>\n",
              "    <tr>\n",
              "      <th>2012-08-10</th>\n",
              "      <td>47403451.04</td>\n",
              "      <td>45439380.0</td>\n",
              "    </tr>\n",
              "    <tr>\n",
              "      <th>2012-08-17</th>\n",
              "      <td>47354452.05</td>\n",
              "      <td>45439728.0</td>\n",
              "    </tr>\n",
              "    <tr>\n",
              "      <th>2012-08-24</th>\n",
              "      <td>47447323.60</td>\n",
              "      <td>45439064.0</td>\n",
              "    </tr>\n",
              "    <tr>\n",
              "      <th>2012-08-31</th>\n",
              "      <td>47159639.43</td>\n",
              "      <td>45441128.0</td>\n",
              "    </tr>\n",
              "    <tr>\n",
              "      <th>2012-09-07</th>\n",
              "      <td>48330059.31</td>\n",
              "      <td>45432740.0</td>\n",
              "    </tr>\n",
              "    <tr>\n",
              "      <th>2012-09-14</th>\n",
              "      <td>44226038.65</td>\n",
              "      <td>45462332.0</td>\n",
              "    </tr>\n",
              "    <tr>\n",
              "      <th>2012-09-21</th>\n",
              "      <td>44354547.11</td>\n",
              "      <td>45461396.0</td>\n",
              "    </tr>\n",
              "    <tr>\n",
              "      <th>2012-09-28</th>\n",
              "      <td>43734899.40</td>\n",
              "      <td>45465904.0</td>\n",
              "    </tr>\n",
              "    <tr>\n",
              "      <th>2012-10-05</th>\n",
              "      <td>47566639.31</td>\n",
              "      <td>45438208.0</td>\n",
              "    </tr>\n",
              "    <tr>\n",
              "      <th>2012-10-12</th>\n",
              "      <td>46128514.25</td>\n",
              "      <td>45448556.0</td>\n",
              "    </tr>\n",
              "    <tr>\n",
              "      <th>2012-10-19</th>\n",
              "      <td>45122410.57</td>\n",
              "      <td>45455828.0</td>\n",
              "    </tr>\n",
              "    <tr>\n",
              "      <th>2012-10-26</th>\n",
              "      <td>45544116.29</td>\n",
              "      <td>45452776.0</td>\n",
              "    </tr>\n",
              "  </tbody>\n",
              "</table>\n",
              "</div>\n",
              "      <button class=\"colab-df-convert\" onclick=\"convertToInteractive('df-324233b5-2e83-40b0-95f1-dc551dd86c23')\"\n",
              "              title=\"Convert this dataframe to an interactive table.\"\n",
              "              style=\"display:none;\">\n",
              "        \n",
              "  <svg xmlns=\"http://www.w3.org/2000/svg\" height=\"24px\"viewBox=\"0 0 24 24\"\n",
              "       width=\"24px\">\n",
              "    <path d=\"M0 0h24v24H0V0z\" fill=\"none\"/>\n",
              "    <path d=\"M18.56 5.44l.94 2.06.94-2.06 2.06-.94-2.06-.94-.94-2.06-.94 2.06-2.06.94zm-11 1L8.5 8.5l.94-2.06 2.06-.94-2.06-.94L8.5 2.5l-.94 2.06-2.06.94zm10 10l.94 2.06.94-2.06 2.06-.94-2.06-.94-.94-2.06-.94 2.06-2.06.94z\"/><path d=\"M17.41 7.96l-1.37-1.37c-.4-.4-.92-.59-1.43-.59-.52 0-1.04.2-1.43.59L10.3 9.45l-7.72 7.72c-.78.78-.78 2.05 0 2.83L4 21.41c.39.39.9.59 1.41.59.51 0 1.02-.2 1.41-.59l7.78-7.78 2.81-2.81c.8-.78.8-2.07 0-2.86zM5.41 20L4 18.59l7.72-7.72 1.47 1.35L5.41 20z\"/>\n",
              "  </svg>\n",
              "      </button>\n",
              "      \n",
              "  <style>\n",
              "    .colab-df-container {\n",
              "      display:flex;\n",
              "      flex-wrap:wrap;\n",
              "      gap: 12px;\n",
              "    }\n",
              "\n",
              "    .colab-df-convert {\n",
              "      background-color: #E8F0FE;\n",
              "      border: none;\n",
              "      border-radius: 50%;\n",
              "      cursor: pointer;\n",
              "      display: none;\n",
              "      fill: #1967D2;\n",
              "      height: 32px;\n",
              "      padding: 0 0 0 0;\n",
              "      width: 32px;\n",
              "    }\n",
              "\n",
              "    .colab-df-convert:hover {\n",
              "      background-color: #E2EBFA;\n",
              "      box-shadow: 0px 1px 2px rgba(60, 64, 67, 0.3), 0px 1px 3px 1px rgba(60, 64, 67, 0.15);\n",
              "      fill: #174EA6;\n",
              "    }\n",
              "\n",
              "    [theme=dark] .colab-df-convert {\n",
              "      background-color: #3B4455;\n",
              "      fill: #D2E3FC;\n",
              "    }\n",
              "\n",
              "    [theme=dark] .colab-df-convert:hover {\n",
              "      background-color: #434B5C;\n",
              "      box-shadow: 0px 1px 3px 1px rgba(0, 0, 0, 0.15);\n",
              "      filter: drop-shadow(0px 1px 2px rgba(0, 0, 0, 0.3));\n",
              "      fill: #FFFFFF;\n",
              "    }\n",
              "  </style>\n",
              "\n",
              "      <script>\n",
              "        const buttonEl =\n",
              "          document.querySelector('#df-324233b5-2e83-40b0-95f1-dc551dd86c23 button.colab-df-convert');\n",
              "        buttonEl.style.display =\n",
              "          google.colab.kernel.accessAllowed ? 'block' : 'none';\n",
              "\n",
              "        async function convertToInteractive(key) {\n",
              "          const element = document.querySelector('#df-324233b5-2e83-40b0-95f1-dc551dd86c23');\n",
              "          const dataTable =\n",
              "            await google.colab.kernel.invokeFunction('convertToInteractive',\n",
              "                                                     [key], {});\n",
              "          if (!dataTable) return;\n",
              "\n",
              "          const docLinkHtml = 'Like what you see? Visit the ' +\n",
              "            '<a target=\"_blank\" href=https://colab.research.google.com/notebooks/data_table.ipynb>data table notebook</a>'\n",
              "            + ' to learn more about interactive tables.';\n",
              "          element.innerHTML = '';\n",
              "          dataTable['output_type'] = 'display_data';\n",
              "          await google.colab.output.renderOutput(dataTable, element);\n",
              "          const docLink = document.createElement('div');\n",
              "          docLink.innerHTML = docLinkHtml;\n",
              "          element.appendChild(docLink);\n",
              "        }\n",
              "      </script>\n",
              "    </div>\n",
              "  </div>\n",
              "  "
            ]
          },
          "metadata": {},
          "execution_count": 75
        }
      ]
    },
    {
      "cell_type": "code",
      "source": [
        "df_preds['Error'] = abs(((df_preds.weekly_sales - df_preds.Predictions)/df_preds.weekly_sales))"
      ],
      "metadata": {
        "colab": {
          "base_uri": "https://localhost:8080/"
        },
        "id": "2hYrd8ANB0zu",
        "outputId": "230ef9d0-f6e0-4b87-b1b6-0bd93ce90f1c"
      },
      "execution_count": 76,
      "outputs": [
        {
          "output_type": "stream",
          "name": "stderr",
          "text": [
            "<ipython-input-76-3413a2bdfa1c>:1: SettingWithCopyWarning: \n",
            "A value is trying to be set on a copy of a slice from a DataFrame.\n",
            "Try using .loc[row_indexer,col_indexer] = value instead\n",
            "\n",
            "See the caveats in the documentation: https://pandas.pydata.org/pandas-docs/stable/user_guide/indexing.html#returning-a-view-versus-a-copy\n",
            "  df_preds['Error'] = abs(((df_preds.weekly_sales - df_preds.Predictions)/df_preds.weekly_sales))\n"
          ]
        }
      ]
    },
    {
      "cell_type": "code",
      "source": [
        "df_preds.Error = 1-df_preds.Error"
      ],
      "metadata": {
        "colab": {
          "base_uri": "https://localhost:8080/"
        },
        "id": "8fP_4gQ8CkTm",
        "outputId": "7c47fe25-8322-4a49-aeea-cf2270509c27"
      },
      "execution_count": 77,
      "outputs": [
        {
          "output_type": "stream",
          "name": "stderr",
          "text": [
            "<ipython-input-77-8629080d917d>:1: SettingWithCopyWarning: \n",
            "A value is trying to be set on a copy of a slice from a DataFrame.\n",
            "Try using .loc[row_indexer,col_indexer] = value instead\n",
            "\n",
            "See the caveats in the documentation: https://pandas.pydata.org/pandas-docs/stable/user_guide/indexing.html#returning-a-view-versus-a-copy\n",
            "  df_preds.Error = 1-df_preds.Error\n"
          ]
        }
      ]
    },
    {
      "cell_type": "code",
      "source": [
        "df_preds['Accuracy'] = df_preds.Error"
      ],
      "metadata": {
        "colab": {
          "base_uri": "https://localhost:8080/"
        },
        "id": "GBSDhPbTDgIm",
        "outputId": "fa3e1749-f869-4c19-a279-a5f491daedac"
      },
      "execution_count": 78,
      "outputs": [
        {
          "output_type": "stream",
          "name": "stderr",
          "text": [
            "<ipython-input-78-97429acc76cf>:1: SettingWithCopyWarning: \n",
            "A value is trying to be set on a copy of a slice from a DataFrame.\n",
            "Try using .loc[row_indexer,col_indexer] = value instead\n",
            "\n",
            "See the caveats in the documentation: https://pandas.pydata.org/pandas-docs/stable/user_guide/indexing.html#returning-a-view-versus-a-copy\n",
            "  df_preds['Accuracy'] = df_preds.Error\n"
          ]
        }
      ]
    },
    {
      "cell_type": "code",
      "source": [
        "df_preds = df_preds[['weekly_sales','Predictions','Accuracy']]"
      ],
      "metadata": {
        "id": "pWTsiuAyD2_d"
      },
      "execution_count": 79,
      "outputs": []
    },
    {
      "cell_type": "code",
      "source": [
        "df_preds.Accuracy = round(df_preds.Accuracy, 3)\n",
        "df_preds.Accuracy"
      ],
      "metadata": {
        "colab": {
          "base_uri": "https://localhost:8080/"
        },
        "id": "Fo66LyrvEFP9",
        "outputId": "62fa184a-24f1-4761-c84d-6fb768fc7c79"
      },
      "execution_count": 80,
      "outputs": [
        {
          "output_type": "stream",
          "name": "stderr",
          "text": [
            "<ipython-input-80-b4543669c55e>:1: SettingWithCopyWarning: \n",
            "A value is trying to be set on a copy of a slice from a DataFrame.\n",
            "Try using .loc[row_indexer,col_indexer] = value instead\n",
            "\n",
            "See the caveats in the documentation: https://pandas.pydata.org/pandas-docs/stable/user_guide/indexing.html#returning-a-view-versus-a-copy\n",
            "  df_preds.Accuracy = round(df_preds.Accuracy, 3)\n"
          ]
        },
        {
          "output_type": "execute_result",
          "data": {
            "text/plain": [
              "date\n",
              "2012-08-10    0.959\n",
              "2012-08-17    0.960\n",
              "2012-08-24    0.958\n",
              "2012-08-31    0.964\n",
              "2012-09-07    0.940\n",
              "2012-09-14    0.972\n",
              "2012-09-21    0.975\n",
              "2012-09-28    0.960\n",
              "2012-10-05    0.955\n",
              "2012-10-12    0.985\n",
              "2012-10-19    0.993\n",
              "2012-10-26    0.998\n",
              "Name: Accuracy, dtype: float64"
            ]
          },
          "metadata": {},
          "execution_count": 80
        }
      ]
    },
    {
      "cell_type": "code",
      "source": [
        "df_preds"
      ],
      "metadata": {
        "colab": {
          "base_uri": "https://localhost:8080/",
          "height": 457
        },
        "id": "E8N0FIVPEZPu",
        "outputId": "653e0e3c-c7ac-43b6-fce9-68e96aa51a71"
      },
      "execution_count": 81,
      "outputs": [
        {
          "output_type": "execute_result",
          "data": {
            "text/plain": [
              "            weekly_sales  Predictions  Accuracy\n",
              "date                                           \n",
              "2012-08-10   47403451.04   45439380.0     0.959\n",
              "2012-08-17   47354452.05   45439728.0     0.960\n",
              "2012-08-24   47447323.60   45439064.0     0.958\n",
              "2012-08-31   47159639.43   45441128.0     0.964\n",
              "2012-09-07   48330059.31   45432740.0     0.940\n",
              "2012-09-14   44226038.65   45462332.0     0.972\n",
              "2012-09-21   44354547.11   45461396.0     0.975\n",
              "2012-09-28   43734899.40   45465904.0     0.960\n",
              "2012-10-05   47566639.31   45438208.0     0.955\n",
              "2012-10-12   46128514.25   45448556.0     0.985\n",
              "2012-10-19   45122410.57   45455828.0     0.993\n",
              "2012-10-26   45544116.29   45452776.0     0.998"
            ],
            "text/html": [
              "\n",
              "  <div id=\"df-8e6cf869-0791-4649-9b16-9aab085e6007\">\n",
              "    <div class=\"colab-df-container\">\n",
              "      <div>\n",
              "<style scoped>\n",
              "    .dataframe tbody tr th:only-of-type {\n",
              "        vertical-align: middle;\n",
              "    }\n",
              "\n",
              "    .dataframe tbody tr th {\n",
              "        vertical-align: top;\n",
              "    }\n",
              "\n",
              "    .dataframe thead th {\n",
              "        text-align: right;\n",
              "    }\n",
              "</style>\n",
              "<table border=\"1\" class=\"dataframe\">\n",
              "  <thead>\n",
              "    <tr style=\"text-align: right;\">\n",
              "      <th></th>\n",
              "      <th>weekly_sales</th>\n",
              "      <th>Predictions</th>\n",
              "      <th>Accuracy</th>\n",
              "    </tr>\n",
              "    <tr>\n",
              "      <th>date</th>\n",
              "      <th></th>\n",
              "      <th></th>\n",
              "      <th></th>\n",
              "    </tr>\n",
              "  </thead>\n",
              "  <tbody>\n",
              "    <tr>\n",
              "      <th>2012-08-10</th>\n",
              "      <td>47403451.04</td>\n",
              "      <td>45439380.0</td>\n",
              "      <td>0.959</td>\n",
              "    </tr>\n",
              "    <tr>\n",
              "      <th>2012-08-17</th>\n",
              "      <td>47354452.05</td>\n",
              "      <td>45439728.0</td>\n",
              "      <td>0.960</td>\n",
              "    </tr>\n",
              "    <tr>\n",
              "      <th>2012-08-24</th>\n",
              "      <td>47447323.60</td>\n",
              "      <td>45439064.0</td>\n",
              "      <td>0.958</td>\n",
              "    </tr>\n",
              "    <tr>\n",
              "      <th>2012-08-31</th>\n",
              "      <td>47159639.43</td>\n",
              "      <td>45441128.0</td>\n",
              "      <td>0.964</td>\n",
              "    </tr>\n",
              "    <tr>\n",
              "      <th>2012-09-07</th>\n",
              "      <td>48330059.31</td>\n",
              "      <td>45432740.0</td>\n",
              "      <td>0.940</td>\n",
              "    </tr>\n",
              "    <tr>\n",
              "      <th>2012-09-14</th>\n",
              "      <td>44226038.65</td>\n",
              "      <td>45462332.0</td>\n",
              "      <td>0.972</td>\n",
              "    </tr>\n",
              "    <tr>\n",
              "      <th>2012-09-21</th>\n",
              "      <td>44354547.11</td>\n",
              "      <td>45461396.0</td>\n",
              "      <td>0.975</td>\n",
              "    </tr>\n",
              "    <tr>\n",
              "      <th>2012-09-28</th>\n",
              "      <td>43734899.40</td>\n",
              "      <td>45465904.0</td>\n",
              "      <td>0.960</td>\n",
              "    </tr>\n",
              "    <tr>\n",
              "      <th>2012-10-05</th>\n",
              "      <td>47566639.31</td>\n",
              "      <td>45438208.0</td>\n",
              "      <td>0.955</td>\n",
              "    </tr>\n",
              "    <tr>\n",
              "      <th>2012-10-12</th>\n",
              "      <td>46128514.25</td>\n",
              "      <td>45448556.0</td>\n",
              "      <td>0.985</td>\n",
              "    </tr>\n",
              "    <tr>\n",
              "      <th>2012-10-19</th>\n",
              "      <td>45122410.57</td>\n",
              "      <td>45455828.0</td>\n",
              "      <td>0.993</td>\n",
              "    </tr>\n",
              "    <tr>\n",
              "      <th>2012-10-26</th>\n",
              "      <td>45544116.29</td>\n",
              "      <td>45452776.0</td>\n",
              "      <td>0.998</td>\n",
              "    </tr>\n",
              "  </tbody>\n",
              "</table>\n",
              "</div>\n",
              "      <button class=\"colab-df-convert\" onclick=\"convertToInteractive('df-8e6cf869-0791-4649-9b16-9aab085e6007')\"\n",
              "              title=\"Convert this dataframe to an interactive table.\"\n",
              "              style=\"display:none;\">\n",
              "        \n",
              "  <svg xmlns=\"http://www.w3.org/2000/svg\" height=\"24px\"viewBox=\"0 0 24 24\"\n",
              "       width=\"24px\">\n",
              "    <path d=\"M0 0h24v24H0V0z\" fill=\"none\"/>\n",
              "    <path d=\"M18.56 5.44l.94 2.06.94-2.06 2.06-.94-2.06-.94-.94-2.06-.94 2.06-2.06.94zm-11 1L8.5 8.5l.94-2.06 2.06-.94-2.06-.94L8.5 2.5l-.94 2.06-2.06.94zm10 10l.94 2.06.94-2.06 2.06-.94-2.06-.94-.94-2.06-.94 2.06-2.06.94z\"/><path d=\"M17.41 7.96l-1.37-1.37c-.4-.4-.92-.59-1.43-.59-.52 0-1.04.2-1.43.59L10.3 9.45l-7.72 7.72c-.78.78-.78 2.05 0 2.83L4 21.41c.39.39.9.59 1.41.59.51 0 1.02-.2 1.41-.59l7.78-7.78 2.81-2.81c.8-.78.8-2.07 0-2.86zM5.41 20L4 18.59l7.72-7.72 1.47 1.35L5.41 20z\"/>\n",
              "  </svg>\n",
              "      </button>\n",
              "      \n",
              "  <style>\n",
              "    .colab-df-container {\n",
              "      display:flex;\n",
              "      flex-wrap:wrap;\n",
              "      gap: 12px;\n",
              "    }\n",
              "\n",
              "    .colab-df-convert {\n",
              "      background-color: #E8F0FE;\n",
              "      border: none;\n",
              "      border-radius: 50%;\n",
              "      cursor: pointer;\n",
              "      display: none;\n",
              "      fill: #1967D2;\n",
              "      height: 32px;\n",
              "      padding: 0 0 0 0;\n",
              "      width: 32px;\n",
              "    }\n",
              "\n",
              "    .colab-df-convert:hover {\n",
              "      background-color: #E2EBFA;\n",
              "      box-shadow: 0px 1px 2px rgba(60, 64, 67, 0.3), 0px 1px 3px 1px rgba(60, 64, 67, 0.15);\n",
              "      fill: #174EA6;\n",
              "    }\n",
              "\n",
              "    [theme=dark] .colab-df-convert {\n",
              "      background-color: #3B4455;\n",
              "      fill: #D2E3FC;\n",
              "    }\n",
              "\n",
              "    [theme=dark] .colab-df-convert:hover {\n",
              "      background-color: #434B5C;\n",
              "      box-shadow: 0px 1px 3px 1px rgba(0, 0, 0, 0.15);\n",
              "      filter: drop-shadow(0px 1px 2px rgba(0, 0, 0, 0.3));\n",
              "      fill: #FFFFFF;\n",
              "    }\n",
              "  </style>\n",
              "\n",
              "      <script>\n",
              "        const buttonEl =\n",
              "          document.querySelector('#df-8e6cf869-0791-4649-9b16-9aab085e6007 button.colab-df-convert');\n",
              "        buttonEl.style.display =\n",
              "          google.colab.kernel.accessAllowed ? 'block' : 'none';\n",
              "\n",
              "        async function convertToInteractive(key) {\n",
              "          const element = document.querySelector('#df-8e6cf869-0791-4649-9b16-9aab085e6007');\n",
              "          const dataTable =\n",
              "            await google.colab.kernel.invokeFunction('convertToInteractive',\n",
              "                                                     [key], {});\n",
              "          if (!dataTable) return;\n",
              "\n",
              "          const docLinkHtml = 'Like what you see? Visit the ' +\n",
              "            '<a target=\"_blank\" href=https://colab.research.google.com/notebooks/data_table.ipynb>data table notebook</a>'\n",
              "            + ' to learn more about interactive tables.';\n",
              "          element.innerHTML = '';\n",
              "          dataTable['output_type'] = 'display_data';\n",
              "          await google.colab.output.renderOutput(dataTable, element);\n",
              "          const docLink = document.createElement('div');\n",
              "          docLink.innerHTML = docLinkHtml;\n",
              "          element.appendChild(docLink);\n",
              "        }\n",
              "      </script>\n",
              "    </div>\n",
              "  </div>\n",
              "  "
            ]
          },
          "metadata": {},
          "execution_count": 81
        }
      ]
    },
    {
      "cell_type": "code",
      "source": [],
      "metadata": {
        "id": "GNIiQtQqEsB_"
      },
      "execution_count": null,
      "outputs": []
    }
  ]
}